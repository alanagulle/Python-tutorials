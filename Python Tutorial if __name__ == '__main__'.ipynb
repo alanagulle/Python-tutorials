{
 "cells": [
  {
   "cell_type": "markdown",
   "metadata": {},
   "source": [
    "## Python Tutorial: if __name__ == '__main__'"
   ]
  },
  {
   "cell_type": "code",
   "execution_count": 3,
   "metadata": {},
   "outputs": [
    {
     "name": "stdout",
     "output_type": "stream",
     "text": [
      "first Modules of the name: __main__\n"
     ]
    }
   ],
   "source": [
    "print (\"first Modules of the name: {}\".format(__name__))\n",
    "\n",
    "\n",
    "def main():\n",
    "    pass\n",
    "\n",
    "if __name__=='__main__':\n",
    "    main()\n",
    "## this code answer the quietion :\n",
    "#is this file run by directly python or being imported ?\n",
    "    \n",
    "    \n",
    "    \n",
    "    "
   ]
  },
  {
   "cell_type": "markdown",
   "metadata": {},
   "source": [
    "What is exactly going on here?\n",
    "\n",
    "when python runs a file , before runs any code , it sets a few special variables\n",
    "\n",
    "__name__ is one of those special variables"
   ]
  }
 ],
 "metadata": {
  "kernelspec": {
   "display_name": "Python 3",
   "language": "python",
   "name": "python3"
  },
  "language_info": {
   "codemirror_mode": {
    "name": "ipython",
    "version": 3
   },
   "file_extension": ".py",
   "mimetype": "text/x-python",
   "name": "python",
   "nbconvert_exporter": "python",
   "pygments_lexer": "ipython3",
   "version": "3.6.5"
  }
 },
 "nbformat": 4,
 "nbformat_minor": 2
}
